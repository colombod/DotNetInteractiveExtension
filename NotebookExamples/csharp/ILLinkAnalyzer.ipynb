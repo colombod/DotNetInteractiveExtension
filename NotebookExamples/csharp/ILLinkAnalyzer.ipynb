{
 "cells": [
  {
   "cell_type": "code",
   "execution_count": 1,
   "metadata": {},
   "outputs": [
    {
     "data": {
      "text/html": [
       "\r\n",
       "<div>\r\n",
       "    <div id='dotnet-interactive-this-cell-61870' style='display: none'>\r\n",
       "        The below script needs to be able to find the current output cell; this is an easy method to get it.\r\n",
       "    </div>\r\n",
       "    <script type='text/javascript'>\r\n",
       "// ensure `requirejs` is available globally\r\n",
       "if (typeof requirejs !== typeof Function || typeof requirejs.config !== typeof Function) {\r\n",
       "    let requirejs_script = document.createElement('script');\r\n",
       "    requirejs_script.setAttribute('src', 'https://cdnjs.cloudflare.com/ajax/libs/require.js/2.3.6/require.min.js');\r\n",
       "    requirejs_script.setAttribute('type', 'text/javascript');\r\n",
       "    requirejs_script.onload = function () {\r\n",
       "        loadDotnetInteractiveApi();\r\n",
       "    };\r\n",
       "\r\n",
       "    document.getElementsByTagName('head')[0].appendChild(requirejs_script);\r\n",
       "}\r\n",
       "else {\r\n",
       "    loadDotnetInteractiveApi();\r\n",
       "}\r\n",
       "\r\n",
       "async function probeAddresses(probingAddresses) {\r\n",
       "    if (Array.isArray(probingAddresses)) {\r\n",
       "        for (let i = 0; i < probingAddresses.length; i++) {\r\n",
       "            \r\n",
       "            let rootUrl = probingAddresses[i];\r\n",
       "\r\n",
       "            if (!rootUrl.endsWith('/')) {\r\n",
       "                rootUrl = `${rootUrl}/`;\r\n",
       "            }\r\n",
       "\r\n",
       "            let response = await fetch(`${rootUrl}discovery`, {\r\n",
       "                method: 'POST',\r\n",
       "                headers: {\r\n",
       "                    'Content-Type': 'text/plain'\r\n",
       "                },\r\n",
       "                body: probingAddresses[i]\r\n",
       "            });\r\n",
       "\r\n",
       "            if (response.status == 200) {\r\n",
       "                return rootUrl;\r\n",
       "            }\r\n",
       "        }\r\n",
       "    }\r\n",
       "}\r\n",
       "\r\n",
       "function loadDotnetInteractiveApi() {\r\n",
       "    probeAddresses([\"http://192.168.1.105:61870/\", \"http://100.64.241.55:61870/\"])\r\n",
       "        .then((root) => {\r\n",
       "            // use probing to find host url and api resources\r\n",
       "            // load interactive helpers and language services\r\n",
       "            let dotnet_require = requirejs.config({\r\n",
       "                context: '451208.61870',\r\n",
       "                paths: {\r\n",
       "                    'dotnet-interactive': `${root}resources`\r\n",
       "                }\r\n",
       "            });\r\n",
       "            if (!window.dotnet_require) {\r\n",
       "                window.dotnet_require = dotnet_require;\r\n",
       "            }\r\n",
       "        \r\n",
       "            dotnet_require([\r\n",
       "                    'dotnet-interactive/dotnet-interactive',\r\n",
       "                    'dotnet-interactive/lsp',\r\n",
       "                    'dotnet-interactive/editor-detection'\r\n",
       "                ],\r\n",
       "                function (dotnet, lsp, editor) {\r\n",
       "                    dotnet.init(window);\r\n",
       "                    \r\n",
       "                },\r\n",
       "                function (error) {\r\n",
       "                    console.log(error);\r\n",
       "                }\r\n",
       "            );\r\n",
       "        })\r\n",
       "        .catch(error => {console.log(error);});\r\n",
       "    }\r\n",
       "    </script>\r\n",
       "</div>"
      ]
     },
     "metadata": {},
     "output_type": "display_data"
    },
    {
     "data": {
      "text/plain": [
       "Installed package illinkanalyzer version 0.0.1-alpha1"
      ]
     },
     "metadata": {},
     "output_type": "display_data"
    }
   ],
   "source": [
    "#r \"nuget:illinkanalyzer,0.0.1-alpha1\""
   ]
  },
  {
   "cell_type": "code",
   "execution_count": 2,
   "metadata": {},
   "outputs": [
    {
     "name": "stdout",
     "output_type": "stream",
     "text": [
      "Loading dependency tree from: F:\\AppModel\\linker\\t\\experiments\\linker-dependencies.xml.gz\n"
     ]
    }
   ],
   "source": [
    "using LinkerAnalyzer;\n",
    "using LinkerAnalyzer.Core;\n",
    "\n",
    "var graph = new ConsoleDependencyGraph();\n",
    "graph.Load(@\"F:\\AppModel\\linker\\t\\experiments\\linker-dependencies.xml.gz\");"
   ]
  },
  {
   "cell_type": "code",
   "execution_count": 3,
   "metadata": {},
   "outputs": [
    {
     "name": "stdout",
     "output_type": "stream",
     "text": [
      "\n",
      "--- Statistics ---------------------------------------------------------\n",
      "Vertex type:\tOther\t\tcount:30\n",
      "Vertex type:\tAssembly\tcount:15\n",
      "Vertex type:\tTypeDef\t\tcount:1086\n",
      "Vertex type:\tMethod\t\tcount:8862\n",
      "Vertex type:\tModule\t\tcount:3\n",
      "Vertex type:\tMemberRef\tcount:1088\n",
      "Vertex type:\tField\t\tcount:4491\n",
      "Vertex type:\tGenericParam\tcount:16\n",
      "Vertex type:\tParam\t\tcount:96\n",
      "Vertex type:\tProperty\tcount:101\n",
      "Vertex type:\tExportedType\tcount:428\n",
      "Vertex type:\tTypeRef\t\tcount:2\n",
      "\n",
      "Total vertices: 16218\n"
     ]
    }
   ],
   "source": [
    "graph.ShowStat(verbose: true)"
   ]
  },
  {
   "cell_type": "code",
   "execution_count": 4,
   "metadata": {},
   "outputs": [
    {
     "name": "stdout",
     "output_type": "stream",
     "text": [
      "\n",
      "--- Root vertices ------------------------------------------------------\n",
      "Other:Mono.Linker.Steps.ResolveFromAssemblyStep\n",
      "Other:Mono.Linker.Steps.MarkStep\n",
      "\n",
      "Total root vertices: 2\n"
     ]
    }
   ],
   "source": [
    "graph.ShowRoots()"
   ]
  },
  {
   "cell_type": "code",
   "execution_count": 5,
   "metadata": {},
   "outputs": [
    {
     "name": "stdout",
     "output_type": "stream",
     "text": [
      "\n",
      "--- Space analyzer -----------------------------------------------------\n",
      "Load assemblies from F:\\AppModel\\linker\\t\\experiments\n",
      "Analyzing F:\\AppModel\\linker\\t\\experiments\\ExperimentsApp.dll\n",
      "Analyzing F:\\AppModel\\linker\\t\\experiments\\System.Console.dll\n",
      "Analyzing F:\\AppModel\\linker\\t\\experiments\\System.Private.CoreLib.dll\n",
      "Total known size: 677579\n"
     ]
    }
   ],
   "source": [
    "graph.SpaceAnalyzer = new SpaceAnalyzer(@\"F:\\AppModel\\linker\\t\\experiments\");\n",
    "graph.SpaceAnalyzer.LoadAssemblies (true);"
   ]
  },
  {
   "cell_type": "code",
   "execution_count": 6,
   "metadata": {},
   "outputs": [
    {
     "data": {
      "text/html": [
       "<table><thead><tr><th><i>index</i></th><th>Key</th><th>Value</th></tr></thead><tbody><tr><td>0</td><td>Method:System.Numerics.Vector`1&lt;T&gt; System.Numerics.Vector`1::GreaterThan(System.Numerics.Vector`1&lt;T&gt;,System.Numerics.Vector`1&lt;T&gt;)</td><td>4106</td></tr><tr><td>1</td><td>Method:System.Numerics.Vector`1&lt;T&gt; System.Numerics.Vector`1::LessThan(System.Numerics.Vector`1&lt;T&gt;,System.Numerics.Vector`1&lt;T&gt;)</td><td>4103</td></tr><tr><td>2</td><td>Method:System.Numerics.Vector`1&lt;T&gt; System.Numerics.Vector`1::Equals(System.Numerics.Vector`1&lt;T&gt;,System.Numerics.Vector`1&lt;T&gt;)</td><td>4101</td></tr><tr><td>3</td><td>Method:System.Numerics.Vector`1&lt;T&gt; System.Numerics.Vector`1::op_Subtraction(System.Numerics.Vector`1&lt;T&gt;,System.Numerics.Vector`1&lt;T&gt;)</td><td>3803</td></tr><tr><td>4</td><td>Method:System.Int32 System.Numerics.Vector`1::GetHashCode()</td><td>2684</td></tr></tbody></table>"
      ]
     },
     "execution_count": 6,
     "metadata": {},
     "output_type": "execute_result"
    }
   ],
   "source": [
    "graph.SpaceAnalyzer.GetLargestNodes(5, \"Method\")"
   ]
  },
  {
   "cell_type": "code",
   "execution_count": 7,
   "metadata": {},
   "outputs": [
    {
     "data": {
      "text/html": [
       "<table><thead><tr><th><i>index</i></th><th>Key</th><th>Value</th></tr></thead><tbody><tr><td>0</td><td>TypeDef:System.Numerics.Vector`1</td><td>29511</td></tr><tr><td>1</td><td>TypeDef:System.SR:System.Private.CoreLib.dll</td><td>26106</td></tr><tr><td>2</td><td>TypeDef:System.Number:System.Private.CoreLib.dll</td><td>22106</td></tr><tr><td>3</td><td>TypeDef:System.Diagnostics.Tracing.EventSource</td><td>17373</td></tr><tr><td>4</td><td>TypeDef:System.SpanHelpers:System.Private.CoreLib.dll</td><td>14311</td></tr></tbody></table>"
      ]
     },
     "execution_count": 7,
     "metadata": {},
     "output_type": "execute_result"
    }
   ],
   "source": [
    "graph.SpaceAnalyzer.GetLargestNodes(5, \"TypeDef\")"
   ]
  },
  {
   "cell_type": "code",
   "execution_count": 9,
   "metadata": {},
   "outputs": [
    {
     "name": "stdout",
     "output_type": "stream",
     "text": [
      "\n",
      "--- Raw dependencies: 'TypeDef:System.Numerics.Vector`1' ---------------\n",
      "\n",
      "--- TypeDef:System.Numerics.Vector`1 dependencies ----------------------\n",
      "Dependency #1\n",
      "\tTypeDef:System.Numerics.Vector`1 size: 29511\n",
      "\t| MemberRef:System.Int32 System.Numerics.Vector`1<System.Byte>::get_Count() [12 deps]\n",
      "\t| Method:System.Boolean System.SpanHelpers::SequenceEqual(System.Byte&,System.Byte&,System.UInt64) [6 deps]\n",
      "\t| Method:System.Boolean System.String::EqualsHelper(System.String,System.String) [6 deps]\n",
      "\t| Method:System.Boolean System.String::Equals(System.String,System.StringComparison) [6 deps]\n",
      "\t| Method:System.String System.SR::GetResourceString(System.String,System.String) [23 deps]\n",
      "\t| Method:System.String System.SR::GetResourceString(System.String) [591 deps]\n",
      "\t| Method:System.String System.SR::get_Serialization_InvalidPtrValue() [3 deps]\n",
      "\t| Method:System.Void System.IntPtr::.ctor(System.Runtime.Serialization.SerializationInfo,System.Runtime.Serialization.StreamingContext) [2 deps]\n",
      "\t| TypeDef:System.IntPtr [2 deps]\n",
      "\t| Method:System.Void System.Func`1::.ctor(System.Object,System.IntPtr) [10 deps]\n",
      "\t| TypeDef:System.Func`1 [2 deps]\n",
      "\t| Method:System.IO.TextWriter System.Console::get_Out() [4 deps]\n",
      "\t| Method:System.Void System.Console::WriteLine(System.String) [2 deps]\n",
      "\t| Method:System.Void ExperimentsApps.Program::Main(System.String[]) [2 deps]\n",
      "\t| Assembly:ExperimentsApp, Version=1.0.0.0, Culture=neutral, PublicKeyToken=null [2 deps]\n",
      "\t| Other:Mono.Linker.Steps.ResolveFromAssemblyStep\n"
     ]
    }
   ],
   "source": [
    "graph.ShowRawDependencies(@\"TypeDef:System.Numerics.Vector`1\");"
   ]
  },
  {
   "cell_type": "code",
   "execution_count": 10,
   "metadata": {},
   "outputs": [
    {
     "name": "stdout",
     "output_type": "stream",
     "text": [
      "\n",
      "--- Raw dependencies: 'Method:System.Boolean System.String::EqualsHelper(System.String,System.String)' ---\n",
      "\n",
      "--- Method:System.Boolean System.String::EqualsHelper(System.String,System.String) dependencies ---\n",
      "Dependency #1\n",
      "\tMethod:System.Boolean System.String::EqualsHelper(System.String,System.String) size: 50\n",
      "\t| Method:System.Boolean System.String::Equals(System.String,System.StringComparison) [6 deps]\n",
      "\t| Method:System.String System.SR::GetResourceString(System.String,System.String) [23 deps]\n",
      "\t| Method:System.String System.SR::GetResourceString(System.String) [591 deps]\n",
      "\t| Method:System.String System.SR::get_Serialization_InvalidPtrValue() [3 deps]\n",
      "\t| Method:System.Void System.IntPtr::.ctor(System.Runtime.Serialization.SerializationInfo,System.Runtime.Serialization.StreamingContext) [2 deps]\n",
      "\t| TypeDef:System.IntPtr [2 deps]\n",
      "\t| Method:System.Void System.Func`1::.ctor(System.Object,System.IntPtr) [10 deps]\n",
      "\t| TypeDef:System.Func`1 [2 deps]\n",
      "\t| Method:System.IO.TextWriter System.Console::get_Out() [4 deps]\n",
      "\t| Method:System.Void System.Console::WriteLine(System.String) [2 deps]\n",
      "\t| Method:System.Void ExperimentsApps.Program::Main(System.String[]) [2 deps]\n",
      "\t| Assembly:ExperimentsApp, Version=1.0.0.0, Culture=neutral, PublicKeyToken=null [2 deps]\n",
      "\t| Other:Mono.Linker.Steps.ResolveFromAssemblyStep\n",
      "Dependency #2\n",
      "\tMethod:System.Boolean System.String::EqualsHelper(System.String,System.String) size: 50\n",
      "\t| Other:Mono.Linker.Steps.MarkStep\n",
      "Dependency #3\n",
      "\tMethod:System.Boolean System.String::EqualsHelper(System.String,System.String) size: 50\n",
      "\t| Method:System.Boolean System.String::Equals(System.String,System.String) [7 deps]\n",
      "\t| Method:System.Boolean System.String::op_Equality(System.String,System.String) [30 deps]\n",
      "\t| Method:System.String System.Globalization.CultureData::get_CultureName() [9 deps]\n",
      "\t| Method:System.Void System.Globalization.CultureInfo::.ctor(System.Globalization.CultureData,System.Boolean) [3 deps]\n",
      "\t| Method:System.Void System.Globalization.CultureInfo::.cctor() [2 deps]\n",
      "\t| Method:System.Globalization.CultureInfo System.Globalization.CultureInfo::get_InvariantCulture() [52 deps]\n",
      "\t| Method:System.Void System.IO.TextWriter/NullTextWriter::.ctor() [2 deps]\n",
      "\t| Method:System.Void System.IO.TextWriter::.cctor() [2 deps]\n",
      "\t| Method:System.Void System.IO.TextWriter::WriteLine(System.String) [5 deps]\n",
      "\t| Method:System.Void System.Console::WriteLine(System.String) [2 deps]\n",
      "\t| Method:System.Void ExperimentsApps.Program::Main(System.String[]) [2 deps]\n",
      "\t| Assembly:ExperimentsApp, Version=1.0.0.0, Culture=neutral, PublicKeyToken=null [2 deps]\n",
      "\t| Other:Mono.Linker.Steps.ResolveFromAssemblyStep\n",
      "Dependency #4\n",
      "\tMethod:System.Boolean System.String::EqualsHelper(System.String,System.String) size: 50\n",
      "\t| Method:System.Boolean System.String::Equals(System.String) [14 deps]\n",
      "\t| Method:System.String System.SR::GetResourceString(System.String,System.String) [23 deps]\n",
      "\t| Method:System.String System.SR::GetResourceString(System.String) [591 deps]\n",
      "\t| Method:System.String System.SR::get_Serialization_InvalidPtrValue() [3 deps]\n",
      "\t| Method:System.Void System.IntPtr::.ctor(System.Runtime.Serialization.SerializationInfo,System.Runtime.Serialization.StreamingContext) [2 deps]\n",
      "\t| TypeDef:System.IntPtr [2 deps]\n",
      "\t| Method:System.Void System.Func`1::.ctor(System.Object,System.IntPtr) [10 deps]\n",
      "\t| TypeDef:System.Func`1 [2 deps]\n",
      "\t| Method:System.IO.TextWriter System.Console::get_Out() [4 deps]\n",
      "\t| Method:System.Void System.Console::WriteLine(System.String) [2 deps]\n",
      "\t| Method:System.Void ExperimentsApps.Program::Main(System.String[]) [2 deps]\n",
      "\t| Assembly:ExperimentsApp, Version=1.0.0.0, Culture=neutral, PublicKeyToken=null [2 deps]\n",
      "\t| Other:Mono.Linker.Steps.ResolveFromAssemblyStep\n",
      "Dependency #5\n",
      "\tMethod:System.Boolean System.String::EqualsHelper(System.String,System.String) size: 50\n",
      "\t| Method:System.Boolean System.String::Equals(System.Object) [2 deps]\n",
      "\t| Method:System.Boolean System.Object::Equals(System.Object) [128 deps]\n",
      "\t| Method:System.Boolean System.Reflection.Assembly::op_Equality(System.Reflection.Assembly,System.Reflection.Assembly) [9 deps]\n",
      "\t| Method:System.Globalization.CultureInfo System.Resources.ManifestBasedResourceGroveler::GetNeutralResourcesLanguage(System.Reflection.Assembly,System.Resources.UltimateResourceFallbackLocation&) [2 deps]\n",
      "\t| Method:System.Void System.Resources.ResourceManager::CommonAssemblyInit() [3 deps]\n",
      "\t| Method:System.Void System.Resources.ResourceManager::.ctor(System.Type) [2 deps]\n",
      "\t| Method:System.Resources.ResourceManager System.SR::get_ResourceManager() [3 deps]\n",
      "\t| Method:System.String System.SR::InternalGetResourceString(System.String) [2 deps]\n",
      "\t| Method:System.String System.SR::GetResourceString(System.String,System.String) [23 deps]\n",
      "\t| Method:System.String System.SR::GetResourceString(System.String) [591 deps]\n",
      "\t| Method:System.String System.SR::get_Serialization_InvalidPtrValue() [3 deps]\n",
      "\t| Method:System.Void System.IntPtr::.ctor(System.Runtime.Serialization.SerializationInfo,System.Runtime.Serialization.StreamingContext) [2 deps]\n",
      "\t| TypeDef:System.IntPtr [2 deps]\n",
      "\t| Method:System.Void System.Func`1::.ctor(System.Object,System.IntPtr) [10 deps]\n",
      "\t| TypeDef:System.Func`1 [2 deps]\n",
      "\t| Method:System.IO.TextWriter System.Console::get_Out() [4 deps]\n",
      "\t| Method:System.Void System.Console::WriteLine(System.String) [2 deps]\n",
      "\t| Method:System.Void ExperimentsApps.Program::Main(System.String[]) [2 deps]\n",
      "\t| Assembly:ExperimentsApp, Version=1.0.0.0, Culture=neutral, PublicKeyToken=null [2 deps]\n",
      "\t| Other:Mono.Linker.Steps.ResolveFromAssemblyStep\n",
      "Dependency #6\n",
      "\tMethod:System.Boolean System.String::EqualsHelper(System.String,System.String) size: 50\n",
      "\t| Method:System.Boolean System.String::Equals(System.String,System.String,System.StringComparison) [9 deps]\n",
      "\t| Method:System.IO.Stream System.Resources.ManifestBasedResourceGroveler::CaseInsensitiveManifestResourceStreamLookup(System.Reflection.Assembly,System.String) [2 deps]\n",
      "\t| Method:System.IO.Stream System.Resources.ManifestBasedResourceGroveler::GetManifestResourceStream(System.Reflection.Assembly,System.String) [2 deps]\n",
      "\t| Method:System.Resources.ResourceSet System.Resources.ManifestBasedResourceGroveler::GrovelForResourceSet(System.Globalization.CultureInfo,System.Collections.Generic.Dictionary`2<System.String,System.Resources.ResourceSet>,System.Boolean,System.Boolean) [2 deps]\n",
      "\t| Method:System.Resources.ResourceSet System.Resources.IResourceGroveler::GrovelForResourceSet(System.Globalization.CultureInfo,System.Collections.Generic.Dictionary`2<System.String,System.Resources.ResourceSet>,System.Boolean,System.Boolean) [2 deps]\n",
      "\t| Method:System.Resources.ResourceSet System.Resources.ResourceManager::InternalGetResourceSet(System.Globalization.CultureInfo,System.Boolean,System.Boolean) [2 deps]\n",
      "\t| Method:System.String System.Resources.ResourceManager::GetString(System.String,System.Globalization.CultureInfo) [6 deps]\n",
      "\t| Method:System.String System.SR::InternalGetResourceString(System.String) [2 deps]\n",
      "\t| Method:System.String System.SR::GetResourceString(System.String,System.String) [23 deps]\n",
      "\t| Method:System.String System.SR::GetResourceString(System.String) [591 deps]\n",
      "\t| Method:System.String System.SR::get_Serialization_InvalidPtrValue() [3 deps]\n",
      "\t| Method:System.Void System.IntPtr::.ctor(System.Runtime.Serialization.SerializationInfo,System.Runtime.Serialization.StreamingContext) [2 deps]\n",
      "\t| TypeDef:System.IntPtr [2 deps]\n",
      "\t| Method:System.Void System.Func`1::.ctor(System.Object,System.IntPtr) [10 deps]\n",
      "\t| TypeDef:System.Func`1 [2 deps]\n",
      "\t| Method:System.IO.TextWriter System.Console::get_Out() [4 deps]\n",
      "\t| Method:System.Void System.Console::WriteLine(System.String) [2 deps]\n",
      "\t| Method:System.Void ExperimentsApps.Program::Main(System.String[]) [2 deps]\n",
      "\t| Assembly:ExperimentsApp, Version=1.0.0.0, Culture=neutral, PublicKeyToken=null [2 deps]\n",
      "\t| Other:Mono.Linker.Steps.ResolveFromAssemblyStep\n"
     ]
    }
   ],
   "source": [
    "graph.ShowRawDependencies(@\"Method:System.Boolean System.String::EqualsHelper(System.String,System.String)\");"
   ]
  },
  {
   "cell_type": "code",
   "execution_count": null,
   "metadata": {},
   "outputs": [],
   "source": []
  }
 ],
 "metadata": {
  "kernelspec": {
   "display_name": ".NET (C#)",
   "language": "C#",
   "name": ".net-csharp"
  },
  "language_info": {
   "file_extension": ".cs",
   "mimetype": "text/x-csharp",
   "name": "C#",
   "pygments_lexer": "csharp",
   "version": "8.0"
  }
 },
 "nbformat": 4,
 "nbformat_minor": 4
}
